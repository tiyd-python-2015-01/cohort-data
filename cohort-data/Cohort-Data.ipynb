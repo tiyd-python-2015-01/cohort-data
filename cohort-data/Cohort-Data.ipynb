{
 "metadata": {
  "name": "",
  "signature": "sha256:4ed3064d4feaabb364ee650197bdd34241dd5ca4c93a3b26791484d2b10bf647"
 },
 "nbformat": 3,
 "nbformat_minor": 0,
 "worksheets": [
  {
   "cells": [
    {
     "cell_type": "code",
     "collapsed": false,
     "input": [
      "import re\n",
      "import matplotlib.pyplot as plt\n",
      "import numpy as nm\n",
      "import pandas as pd\n",
      "%matplotlib inline\n",
      "figsize(15, 6)\n",
      "pd.set_option('display.width', 4000)\n",
      "pd.set_option('display.max_columns', 100)\n",
      "\n",
      "pythonfile = pd.read_csv(\"cohort_3_python.csv\")\n",
      "rubyLEC = pd.read_excel(\"cohort_3_rails.xlsx\",sheetname=0)\n",
      "rubyHW = pd.read_excel(\"cohort_3_rails.xlsx\",sheetname=1)"
     ],
     "language": "python",
     "metadata": {},
     "outputs": [],
     "prompt_number": 1271
    },
    {
     "cell_type": "code",
     "collapsed": false,
     "input": [
      "pythonLEC = pythonfile.filter(regex=r'(Lecture)')\n",
      "#pythonfile['Lemon'] = 0"
     ],
     "language": "python",
     "metadata": {},
     "outputs": [],
     "prompt_number": 1272
    },
    {
     "cell_type": "code",
     "collapsed": false,
     "input": [
      "pythonHW = pythonfile.filter(regex=r'(^[^L][^e])')\n",
      "pythonHW = pythonHW.filter(regex=r'(^[^N])')\n",
      "pythonHW.name = 'Student'\n",
      "pythonHW.head()"
     ],
     "language": "python",
     "metadata": {},
     "outputs": [
      {
       "html": [
        "<div style=\"max-height:1000px;max-width:1500px;overflow:auto;\">\n",
        "<table border=\"1\" class=\"dataframe\">\n",
        "  <thead>\n",
        "    <tr style=\"text-align: right;\">\n",
        "      <th></th>\n",
        "      <th>Homework 1, Jan13</th>\n",
        "      <th>Homework 2, Jan14</th>\n",
        "      <th>Homework 3, Jan15</th>\n",
        "      <th>Mystery Word, Jan 20</th>\n",
        "      <th>Currency, Jan 21</th>\n",
        "      <th>Blackjack1, Jan 22</th>\n",
        "      <th>Blackjack2, Jan26</th>\n",
        "      <th>Random Art, Jan 27</th>\n",
        "      <th>Charting</th>\n",
        "      <th>PigSim</th>\n",
        "      <th>Traffic Sim I</th>\n",
        "    </tr>\n",
        "  </thead>\n",
        "  <tbody>\n",
        "    <tr>\n",
        "      <th>0</th>\n",
        "      <td> 4.0</td>\n",
        "      <td> 4</td>\n",
        "      <td> 5.0</td>\n",
        "      <td> 5</td>\n",
        "      <td>  4</td>\n",
        "      <td> 5.5</td>\n",
        "      <td>NaN</td>\n",
        "      <td>  5</td>\n",
        "      <td>NaN</td>\n",
        "      <td>NaN</td>\n",
        "      <td>NaN</td>\n",
        "    </tr>\n",
        "    <tr>\n",
        "      <th>1</th>\n",
        "      <td> 3.5</td>\n",
        "      <td> 5</td>\n",
        "      <td> 4.5</td>\n",
        "      <td> 5</td>\n",
        "      <td>  5</td>\n",
        "      <td> 5.0</td>\n",
        "      <td>  5</td>\n",
        "      <td>  5</td>\n",
        "      <td>NaN</td>\n",
        "      <td>  5</td>\n",
        "      <td>NaN</td>\n",
        "    </tr>\n",
        "    <tr>\n",
        "      <th>2</th>\n",
        "      <td> 5.0</td>\n",
        "      <td> 4</td>\n",
        "      <td> 5.0</td>\n",
        "      <td> 5</td>\n",
        "      <td>  5</td>\n",
        "      <td> 5.0</td>\n",
        "      <td>  6</td>\n",
        "      <td>NaN</td>\n",
        "      <td>  5</td>\n",
        "      <td>NaN</td>\n",
        "      <td>NaN</td>\n",
        "    </tr>\n",
        "    <tr>\n",
        "      <th>3</th>\n",
        "      <td> 3.0</td>\n",
        "      <td> 3</td>\n",
        "      <td> 4.0</td>\n",
        "      <td> 4</td>\n",
        "      <td>NaN</td>\n",
        "      <td> NaN</td>\n",
        "      <td>NaN</td>\n",
        "      <td>  3</td>\n",
        "      <td>  3</td>\n",
        "      <td>  5</td>\n",
        "      <td>  5</td>\n",
        "    </tr>\n",
        "    <tr>\n",
        "      <th>4</th>\n",
        "      <td> 3.0</td>\n",
        "      <td> 3</td>\n",
        "      <td> 4.0</td>\n",
        "      <td> 4</td>\n",
        "      <td>  4</td>\n",
        "      <td> 5.0</td>\n",
        "      <td>  4</td>\n",
        "      <td>  6</td>\n",
        "      <td>NaN</td>\n",
        "      <td>NaN</td>\n",
        "      <td>NaN</td>\n",
        "    </tr>\n",
        "  </tbody>\n",
        "</table>\n",
        "</div>"
       ],
       "metadata": {},
       "output_type": "pyout",
       "prompt_number": 1281,
       "text": [
        "   Homework 1, Jan13  Homework 2, Jan14  Homework 3, Jan15  Mystery Word, Jan 20  Currency, Jan 21  Blackjack1, Jan 22  Blackjack2, Jan26  Random Art, Jan 27  Charting  PigSim  Traffic Sim I\n",
        "0                4.0                  4                5.0                     5                 4                 5.5                NaN                   5       NaN     NaN            NaN\n",
        "1                3.5                  5                4.5                     5                 5                 5.0                  5                   5       NaN       5            NaN\n",
        "2                5.0                  4                5.0                     5                 5                 5.0                  6                 NaN         5     NaN            NaN\n",
        "3                3.0                  3                4.0                     4               NaN                 NaN                NaN                   3         3       5              5\n",
        "4                3.0                  3                4.0                     4                 4                 5.0                  4                   6       NaN     NaN            NaN"
       ]
      }
     ],
     "prompt_number": 1281
    },
    {
     "cell_type": "code",
     "collapsed": false,
     "input": [
      "rubyLEC = rubyLEC.dropna(how='all',axis=(0,1))\n",
      "rubyHW = rubyHW.dropna(how='all',axis=(0,1))"
     ],
     "language": "python",
     "metadata": {},
     "outputs": []
    },
    {
     "cell_type": "code",
     "collapsed": false,
     "input": [
      "rubyLEC.head()"
     ],
     "language": "python",
     "metadata": {},
     "outputs": []
    },
    {
     "cell_type": "code",
     "collapsed": false,
     "input": [
      "rubyHW = rubyHW.ix['R01':'R15','Week 1':'Week 4']\n",
      "rubyLEC = rubyLEC.ix['R01':'R15','Week 1':'Week 4']"
     ],
     "language": "python",
     "metadata": {},
     "outputs": []
    },
    {
     "cell_type": "code",
     "collapsed": false,
     "input": [
      "del rubyHW['Unnamed: 3']\n",
      "del rubyHW['Week 2']\n"
     ],
     "language": "python",
     "metadata": {},
     "outputs": []
    },
    {
     "cell_type": "code",
     "collapsed": false,
     "input": [
      "columns = list(pythonHW.columns)\n",
      "homework_count = len(columns)\n",
      "for n in range(0,homework_count):\n",
      "    columns[n] = \"Homework {}\".format(n)\n",
      "print(len(columns))\n",
      "pythonHW.columns = columns\n",
      "rubyHW.columns = columns"
     ],
     "language": "python",
     "metadata": {},
     "outputs": []
    },
    {
     "cell_type": "code",
     "collapsed": false,
     "input": [
      "rubyLEC.tail()\n",
      "print(len(list(pythonLEC.columns)))"
     ],
     "language": "python",
     "metadata": {},
     "outputs": []
    },
    {
     "cell_type": "code",
     "collapsed": false,
     "input": [
      "columns = list(pythonLEC.columns)\n",
      "lecture_count = len(columns)\n",
      "for n in range(0,lecture_count):\n",
      "    columns[n] = \"Lecture {}\".format(n)\n",
      "pythonLEC.columns = columns\n",
      "rubyLEC.columns = columns"
     ],
     "language": "python",
     "metadata": {},
     "outputs": []
    },
    {
     "cell_type": "code",
     "collapsed": false,
     "input": [
      "hw_dates = ['1/13/2015','1/14/2015','1/15/2015',\n",
      "               '1/20/2015','1/21/2015','1/22/2015',\n",
      "               '1/26/2015','1/27/2015','1/28/2015','1/29/2015',\n",
      "               '2/2/2015']\n",
      "\n",
      "pythonHW = pythonHW.transpose()\n",
      "pythonHW['Dates'] = hw_dates\n",
      "pythonHW['Dates'] = pd.to_datetime(pythonHW.pop('Dates'), format='%m/%d/%Y')\n",
      "pythonHW = pythonHW.set_index([pythonHW.index,'Dates']).sort_index().transpose()\n",
      "rubyHW = rubyHW.transpose()\n",
      "rubyHW['Dates'] = hw_dates\n",
      "rubyHW['Dates'] = pd.to_datetime(rubyHW.pop('Dates'), format='%m/%d/%Y')\n",
      "rubyHW = rubyHW.set_index([rubyHW.index,'Dates']).sort_index().transpose()"
     ],
     "language": "python",
     "metadata": {},
     "outputs": []
    },
    {
     "cell_type": "code",
     "collapsed": false,
     "input": [
      "lec_dates = ['1/12/2015','1/13/2015','1/14/2015','1/15/2015',\n",
      "               '1/20/2015','1/21/2015','1/22/2015','1/23/2015',\n",
      "               '1/26/2015','1/27/2015','1/28/2015','1/29/2015',\n",
      "               '2/2/2015']\n",
      "pythonLEC = pythonLEC.transpose()\n",
      "pythonLEC['Dates'] = lec_dates\n",
      "pythonLEC['Dates'] = pd.to_datetime(pythonLEC.pop('Dates'), format='%m/%d/%Y')\n",
      "pythonLEC = pythonLEC.set_index([pythonLEC.index,'Dates']).sort_index().transpose()\n",
      "rubyLEC = rubyLEC.transpose()\n",
      "rubyLEC['Dates'] = lec_dates\n",
      "rubyLEC['Dates'] = pd.to_datetime(rubyLEC.pop('Dates'), format='%m/%d/%Y')\n",
      "rubyLEC = rubyLEC.set_index([rubyLEC.index,'Dates']).sort_index().transpose()"
     ],
     "language": "python",
     "metadata": {},
     "outputs": []
    },
    {
     "cell_type": "heading",
     "level": 2,
     "metadata": {},
     "source": [
      "Mean difficulty for homeworks per day, per class"
     ]
    },
    {
     "cell_type": "code",
     "collapsed": false,
     "input": [
      "rubyHW.mean()"
     ],
     "language": "python",
     "metadata": {},
     "outputs": []
    },
    {
     "cell_type": "code",
     "collapsed": false,
     "input": [
      "pythonHW.mean()"
     ],
     "language": "python",
     "metadata": {},
     "outputs": []
    },
    {
     "cell_type": "heading",
     "level": 2,
     "metadata": {},
     "source": [
      "Mean difficulty for homework per day, per class"
     ]
    },
    {
     "cell_type": "code",
     "collapsed": false,
     "input": [
      "rubyLEC.mean()"
     ],
     "language": "python",
     "metadata": {},
     "outputs": []
    },
    {
     "cell_type": "code",
     "collapsed": false,
     "input": [
      "pythonLEC.mean()"
     ],
     "language": "python",
     "metadata": {},
     "outputs": []
    },
    {
     "cell_type": "heading",
     "level": 2,
     "metadata": {},
     "source": [
      "Homeworks Plotted"
     ]
    },
    {
     "cell_type": "code",
     "collapsed": false,
     "input": [
      "rubyHW.mean().plot(label='Ruby')\n",
      "pythonHW.mean().plot(label='Python')\n",
      "plt.legend()"
     ],
     "language": "python",
     "metadata": {},
     "outputs": []
    },
    {
     "cell_type": "code",
     "collapsed": false,
     "input": [
      "rubyLEC.mean().plot(label='Ruby')\n",
      "pythonLEC.mean().plot(label='Python')\n",
      "plt.legend()"
     ],
     "language": "python",
     "metadata": {},
     "outputs": []
    },
    {
     "cell_type": "code",
     "collapsed": false,
     "input": [],
     "language": "python",
     "metadata": {},
     "outputs": []
    },
    {
     "cell_type": "code",
     "collapsed": false,
     "input": [
      "pythonHW.head()"
     ],
     "language": "python",
     "metadata": {},
     "outputs": []
    },
    {
     "cell_type": "code",
     "collapsed": false,
     "input": [
      "#noise_complaints.set_index('Created Date').sort_index().resample('H', how=len).plot()\n",
      "#pythonHW['Dates'].resample('M', how='mean').plot()\n",
      "pythonHW.reindex\n",
      "pythonHW"
     ],
     "language": "python",
     "metadata": {},
     "outputs": []
    },
    {
     "cell_type": "code",
     "collapsed": false,
     "input": [],
     "language": "python",
     "metadata": {},
     "outputs": []
    },
    {
     "cell_type": "code",
     "collapsed": false,
     "input": [],
     "language": "python",
     "metadata": {},
     "outputs": []
    }
   ],
   "metadata": {}
  }
 ]
}